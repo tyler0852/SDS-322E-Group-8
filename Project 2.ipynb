{
 "cells": [
  {
   "cell_type": "code",
   "execution_count": 69,
   "id": "6f3f7e4b",
   "metadata": {},
   "outputs": [],
   "source": [
    "import numpy as np\n",
    "import pandas as pd\n",
    "import statsmodels.api as sm\n",
    "import matplotlib.pyplot as plt\n",
    "import seaborn as sns\n",
    "%matplotlib inline\n",
    "plt.style.use('fivethirtyeight')\n",
    "plt.rcParams['patch.force_edgecolor'] = True\n",
    "plt.rcParams['figure.figsize'] = (6,4)\n",
    "import warnings\n",
    "warnings.filterwarnings('ignore')"
   ]
  },
  {
   "cell_type": "markdown",
   "id": "d57c559e",
   "metadata": {},
   "source": [
    "https://corgis-edu.github.io/corgis/csv/cars/"
   ]
  },
  {
   "cell_type": "code",
   "execution_count": 70,
   "id": "215a8527",
   "metadata": {},
   "outputs": [
    {
     "data": {
      "text/html": [
       "<div>\n",
       "<style scoped>\n",
       "    .dataframe tbody tr th:only-of-type {\n",
       "        vertical-align: middle;\n",
       "    }\n",
       "\n",
       "    .dataframe tbody tr th {\n",
       "        vertical-align: top;\n",
       "    }\n",
       "\n",
       "    .dataframe thead th {\n",
       "        text-align: right;\n",
       "    }\n",
       "</style>\n",
       "<table border=\"1\" class=\"dataframe\">\n",
       "  <thead>\n",
       "    <tr style=\"text-align: right;\">\n",
       "      <th></th>\n",
       "      <th>Dimensions_Height</th>\n",
       "      <th>Dimensions_Length</th>\n",
       "      <th>Dimensions_Width</th>\n",
       "      <th>Engine_Information_Driveline</th>\n",
       "      <th>Engine_Information_Engine_Type</th>\n",
       "      <th>Engine_Information_Hybrid</th>\n",
       "      <th>Engine_Information_Number_of_Forward_Gears</th>\n",
       "      <th>Engine_Information_Transmission</th>\n",
       "      <th>Fuel_Information_City_mpg</th>\n",
       "      <th>Fuel_Information_Fuel_Type</th>\n",
       "      <th>Fuel_Information_Highway_mpg</th>\n",
       "      <th>Identification_Classification</th>\n",
       "      <th>Identification_ID</th>\n",
       "      <th>Identification_Make</th>\n",
       "      <th>Identification_Model_Year</th>\n",
       "      <th>Identification_Year</th>\n",
       "      <th>Engine_Information_Engine_Statistics_Horsepower</th>\n",
       "      <th>Engine_Information_Engine_Statistics_Torque</th>\n",
       "    </tr>\n",
       "  </thead>\n",
       "  <tbody>\n",
       "    <tr>\n",
       "      <th>0</th>\n",
       "      <td>140</td>\n",
       "      <td>143</td>\n",
       "      <td>202</td>\n",
       "      <td>All-wheel drive</td>\n",
       "      <td>Audi 3.2L 6 cylinder 250hp 236ft-lbs</td>\n",
       "      <td>True</td>\n",
       "      <td>6</td>\n",
       "      <td>6 Speed Automatic Select Shift</td>\n",
       "      <td>18</td>\n",
       "      <td>Gasoline</td>\n",
       "      <td>25</td>\n",
       "      <td>Automatic transmission</td>\n",
       "      <td>2009 Audi A3 3.2</td>\n",
       "      <td>Audi</td>\n",
       "      <td>2009 Audi A3</td>\n",
       "      <td>2009</td>\n",
       "      <td>250</td>\n",
       "      <td>236</td>\n",
       "    </tr>\n",
       "    <tr>\n",
       "      <th>1</th>\n",
       "      <td>140</td>\n",
       "      <td>143</td>\n",
       "      <td>202</td>\n",
       "      <td>Front-wheel drive</td>\n",
       "      <td>Audi 2.0L 4 cylinder 200 hp 207 ft-lbs Turbo</td>\n",
       "      <td>True</td>\n",
       "      <td>6</td>\n",
       "      <td>6 Speed Automatic Select Shift</td>\n",
       "      <td>22</td>\n",
       "      <td>Gasoline</td>\n",
       "      <td>28</td>\n",
       "      <td>Automatic transmission</td>\n",
       "      <td>2009 Audi A3 2.0 T AT</td>\n",
       "      <td>Audi</td>\n",
       "      <td>2009 Audi A3</td>\n",
       "      <td>2009</td>\n",
       "      <td>200</td>\n",
       "      <td>207</td>\n",
       "    </tr>\n",
       "    <tr>\n",
       "      <th>2</th>\n",
       "      <td>140</td>\n",
       "      <td>143</td>\n",
       "      <td>202</td>\n",
       "      <td>Front-wheel drive</td>\n",
       "      <td>Audi 2.0L 4 cylinder 200 hp 207 ft-lbs Turbo</td>\n",
       "      <td>True</td>\n",
       "      <td>6</td>\n",
       "      <td>6 Speed Manual</td>\n",
       "      <td>21</td>\n",
       "      <td>Gasoline</td>\n",
       "      <td>30</td>\n",
       "      <td>Manual transmission</td>\n",
       "      <td>2009 Audi A3 2.0 T</td>\n",
       "      <td>Audi</td>\n",
       "      <td>2009 Audi A3</td>\n",
       "      <td>2009</td>\n",
       "      <td>200</td>\n",
       "      <td>207</td>\n",
       "    </tr>\n",
       "    <tr>\n",
       "      <th>3</th>\n",
       "      <td>140</td>\n",
       "      <td>143</td>\n",
       "      <td>202</td>\n",
       "      <td>All-wheel drive</td>\n",
       "      <td>Audi 2.0L 4 cylinder 200 hp 207 ft-lbs Turbo</td>\n",
       "      <td>True</td>\n",
       "      <td>6</td>\n",
       "      <td>6 Speed Automatic Select Shift</td>\n",
       "      <td>21</td>\n",
       "      <td>Gasoline</td>\n",
       "      <td>28</td>\n",
       "      <td>Automatic transmission</td>\n",
       "      <td>2009 Audi A3 2.0 T Quattro</td>\n",
       "      <td>Audi</td>\n",
       "      <td>2009 Audi A3</td>\n",
       "      <td>2009</td>\n",
       "      <td>200</td>\n",
       "      <td>207</td>\n",
       "    </tr>\n",
       "    <tr>\n",
       "      <th>4</th>\n",
       "      <td>140</td>\n",
       "      <td>143</td>\n",
       "      <td>202</td>\n",
       "      <td>All-wheel drive</td>\n",
       "      <td>Audi 2.0L 4 cylinder 200 hp 207 ft-lbs Turbo</td>\n",
       "      <td>True</td>\n",
       "      <td>6</td>\n",
       "      <td>6 Speed Automatic Select Shift</td>\n",
       "      <td>21</td>\n",
       "      <td>Gasoline</td>\n",
       "      <td>28</td>\n",
       "      <td>Automatic transmission</td>\n",
       "      <td>2009 Audi A3 2.0 T Quattro</td>\n",
       "      <td>Audi</td>\n",
       "      <td>2009 Audi A3</td>\n",
       "      <td>2009</td>\n",
       "      <td>200</td>\n",
       "      <td>207</td>\n",
       "    </tr>\n",
       "  </tbody>\n",
       "</table>\n",
       "</div>"
      ],
      "text/plain": [
       "   Dimensions_Height  Dimensions_Length  Dimensions_Width  \\\n",
       "0                140                143               202   \n",
       "1                140                143               202   \n",
       "2                140                143               202   \n",
       "3                140                143               202   \n",
       "4                140                143               202   \n",
       "\n",
       "  Engine_Information_Driveline                Engine_Information_Engine_Type  \\\n",
       "0              All-wheel drive          Audi 3.2L 6 cylinder 250hp 236ft-lbs   \n",
       "1            Front-wheel drive  Audi 2.0L 4 cylinder 200 hp 207 ft-lbs Turbo   \n",
       "2            Front-wheel drive  Audi 2.0L 4 cylinder 200 hp 207 ft-lbs Turbo   \n",
       "3              All-wheel drive  Audi 2.0L 4 cylinder 200 hp 207 ft-lbs Turbo   \n",
       "4              All-wheel drive  Audi 2.0L 4 cylinder 200 hp 207 ft-lbs Turbo   \n",
       "\n",
       "   Engine_Information_Hybrid  Engine_Information_Number_of_Forward_Gears  \\\n",
       "0                       True                                           6   \n",
       "1                       True                                           6   \n",
       "2                       True                                           6   \n",
       "3                       True                                           6   \n",
       "4                       True                                           6   \n",
       "\n",
       "  Engine_Information_Transmission  Fuel_Information_City_mpg  \\\n",
       "0  6 Speed Automatic Select Shift                         18   \n",
       "1  6 Speed Automatic Select Shift                         22   \n",
       "2                  6 Speed Manual                         21   \n",
       "3  6 Speed Automatic Select Shift                         21   \n",
       "4  6 Speed Automatic Select Shift                         21   \n",
       "\n",
       "  Fuel_Information_Fuel_Type  Fuel_Information_Highway_mpg  \\\n",
       "0                   Gasoline                            25   \n",
       "1                   Gasoline                            28   \n",
       "2                   Gasoline                            30   \n",
       "3                   Gasoline                            28   \n",
       "4                   Gasoline                            28   \n",
       "\n",
       "  Identification_Classification           Identification_ID  \\\n",
       "0        Automatic transmission            2009 Audi A3 3.2   \n",
       "1        Automatic transmission       2009 Audi A3 2.0 T AT   \n",
       "2           Manual transmission          2009 Audi A3 2.0 T   \n",
       "3        Automatic transmission  2009 Audi A3 2.0 T Quattro   \n",
       "4        Automatic transmission  2009 Audi A3 2.0 T Quattro   \n",
       "\n",
       "  Identification_Make Identification_Model_Year  Identification_Year  \\\n",
       "0                Audi              2009 Audi A3                 2009   \n",
       "1                Audi              2009 Audi A3                 2009   \n",
       "2                Audi              2009 Audi A3                 2009   \n",
       "3                Audi              2009 Audi A3                 2009   \n",
       "4                Audi              2009 Audi A3                 2009   \n",
       "\n",
       "   Engine_Information_Engine_Statistics_Horsepower  \\\n",
       "0                                              250   \n",
       "1                                              200   \n",
       "2                                              200   \n",
       "3                                              200   \n",
       "4                                              200   \n",
       "\n",
       "   Engine_Information_Engine_Statistics_Torque  \n",
       "0                                          236  \n",
       "1                                          207  \n",
       "2                                          207  \n",
       "3                                          207  \n",
       "4                                          207  "
      ]
     },
     "execution_count": 70,
     "metadata": {},
     "output_type": "execute_result"
    }
   ],
   "source": [
    "#Load the data to use \n",
    "data = pd.read_csv(\"cars.csv\")\n",
    "#Predict mpg on highway (Fuel Information.Highway mpg)                               \n",
    "#Dimensions.Length                                  \n",
    "#Engine Information.Number of Forward Gears \n",
    "#Engine Information.Engine Statistics.Horsepower\n",
    "#Engine Information.Engine Statistics.Torque \n",
    "#Fuel Information.Fuel Type  \n",
    "#Replace space and \".\" with \"_\" for each column\n",
    "data.columns = data.columns.str.replace(' ', '_')\n",
    "data.columns = data.columns.str.replace('.', '_')\n",
    "data.head()"
   ]
  },
  {
   "cell_type": "code",
   "execution_count": 71,
   "id": "d247eb9a",
   "metadata": {},
   "outputs": [
    {
     "data": {
      "text/plain": [
       "0"
      ]
     },
     "execution_count": 71,
     "metadata": {},
     "output_type": "execute_result"
    }
   ],
   "source": [
    "#Check if there are any missing values for Fuel_Information_Highway_mpg\n",
    "count = 0\n",
    "for i in data[\"Fuel_Information_Highway_mpg\"]:\n",
    "    if i == 0:\n",
    "        count+=1\n",
    "count"
   ]
  },
  {
   "cell_type": "code",
   "execution_count": 72,
   "id": "b1de693c",
   "metadata": {},
   "outputs": [
    {
     "data": {
      "text/plain": [
       "0"
      ]
     },
     "execution_count": 72,
     "metadata": {},
     "output_type": "execute_result"
    }
   ],
   "source": [
    "#Check if there are any missing values for Dimensions_Length\n",
    "count = 0\n",
    "for i in data[\"Dimensions_Length\"]:\n",
    "    if i == 0:\n",
    "        count+=1\n",
    "count"
   ]
  },
  {
   "cell_type": "code",
   "execution_count": 73,
   "id": "244c309e",
   "metadata": {},
   "outputs": [
    {
     "data": {
      "text/plain": [
       "0"
      ]
     },
     "execution_count": 73,
     "metadata": {},
     "output_type": "execute_result"
    }
   ],
   "source": [
    "#Check if there are any missing values for Engine_Information_Number_of_Forward_Gears\n",
    "count = 0\n",
    "for i in data[\"Engine_Information_Number_of_Forward_Gears\"]:\n",
    "    if i == 0:\n",
    "        count+=1\n",
    "count"
   ]
  },
  {
   "cell_type": "code",
   "execution_count": 74,
   "id": "0f85fc7b",
   "metadata": {},
   "outputs": [
    {
     "data": {
      "text/plain": [
       "0"
      ]
     },
     "execution_count": 74,
     "metadata": {},
     "output_type": "execute_result"
    }
   ],
   "source": [
    "#Check if there are any missing values for Engine_Information_Engine_Statistics_Horsepower\n",
    "count = 0\n",
    "for i in data[\"Engine_Information_Engine_Statistics_Horsepower\"]:\n",
    "    if i == 0:\n",
    "        count+=1\n",
    "count"
   ]
  },
  {
   "cell_type": "code",
   "execution_count": 75,
   "id": "1312b879",
   "metadata": {},
   "outputs": [
    {
     "data": {
      "text/plain": [
       "0"
      ]
     },
     "execution_count": 75,
     "metadata": {},
     "output_type": "execute_result"
    }
   ],
   "source": [
    "#Check if there are any missing values for Engine_Information_Engine_Statistics_Torque\n",
    "count = 0\n",
    "for i in data[\"Engine_Information_Engine_Statistics_Torque\"]:\n",
    "    if i == 0:\n",
    "        count+=1\n",
    "count"
   ]
  },
  {
   "cell_type": "code",
   "execution_count": 76,
   "id": "ebb562c6",
   "metadata": {},
   "outputs": [
    {
     "data": {
      "text/plain": [
       "0"
      ]
     },
     "execution_count": 76,
     "metadata": {},
     "output_type": "execute_result"
    }
   ],
   "source": [
    "#Check if there are any missing values for Engine_Information_Engine_Statistics_Torque\n",
    "count = 0\n",
    "for i in data[\"Fuel_Information_Fuel_Type\"]:\n",
    "    if len(i) == 0:\n",
    "        count+=1\n",
    "count"
   ]
  },
  {
   "cell_type": "code",
   "execution_count": 77,
   "id": "ee41d5c0",
   "metadata": {},
   "outputs": [
    {
     "data": {
      "text/plain": [
       "Dimensions_Height                                  False\n",
       "Dimensions_Length                                  False\n",
       "Dimensions_Width                                   False\n",
       "Engine_Information_Driveline                       False\n",
       "Engine_Information_Engine_Type                     False\n",
       "Engine_Information_Hybrid                          False\n",
       "Engine_Information_Number_of_Forward_Gears         False\n",
       "Engine_Information_Transmission                    False\n",
       "Fuel_Information_City_mpg                          False\n",
       "Fuel_Information_Fuel_Type                         False\n",
       "Fuel_Information_Highway_mpg                       False\n",
       "Identification_Classification                      False\n",
       "Identification_ID                                  False\n",
       "Identification_Make                                False\n",
       "Identification_Model_Year                          False\n",
       "Identification_Year                                False\n",
       "Engine_Information_Engine_Statistics_Horsepower    False\n",
       "Engine_Information_Engine_Statistics_Torque        False\n",
       "dtype: bool"
      ]
     },
     "execution_count": 77,
     "metadata": {},
     "output_type": "execute_result"
    }
   ],
   "source": [
    "data.isna().any() "
   ]
  },
  {
   "cell_type": "markdown",
   "id": "3bb78897",
   "metadata": {},
   "source": [
    "#### Create outcome and features "
   ]
  },
  {
   "cell_type": "code",
   "execution_count": 86,
   "id": "fd9d2da9",
   "metadata": {},
   "outputs": [
    {
     "name": "stdout",
     "output_type": "stream",
     "text": [
      "      Dimensions_Length  Engine_Information_Number_of_Forward_Gears  \\\n",
      "0                   143                                           6   \n",
      "1                   143                                           6   \n",
      "2                   143                                           6   \n",
      "3                   143                                           6   \n",
      "4                   143                                           6   \n",
      "...                 ...                                         ...   \n",
      "5071                253                                           5   \n",
      "5072                249                                           6   \n",
      "5073                249                                           6   \n",
      "5074                210                                           6   \n",
      "5075                 94                                           6   \n",
      "\n",
      "      Engine_Information_Engine_Statistics_Horsepower  \\\n",
      "0                                                 250   \n",
      "1                                                 200   \n",
      "2                                                 200   \n",
      "3                                                 200   \n",
      "4                                                 200   \n",
      "...                                               ...   \n",
      "5071                                              250   \n",
      "5072                                              552   \n",
      "5073                                              552   \n",
      "5074                                              315   \n",
      "5075                                              315   \n",
      "\n",
      "      Engine_Information_Engine_Statistics_Torque Fuel_Information_Fuel_Type  \n",
      "0                                             236                   Gasoline  \n",
      "1                                             207                   Gasoline  \n",
      "2                                             207                   Gasoline  \n",
      "3                                             207                   Gasoline  \n",
      "4                                             207                   Gasoline  \n",
      "...                                           ...                        ...  \n",
      "5071                                          253                   Gasoline  \n",
      "5072                                          398                   Gasoline  \n",
      "5073                                          398                   Gasoline  \n",
      "5074                                          330                   Gasoline  \n",
      "5075                                          330                   Gasoline  \n",
      "\n",
      "[5076 rows x 5 columns]\n",
      "[(3807, 5), (1269, 5), (3807,), (1269,)]\n"
     ]
    }
   ],
   "source": [
    "from sklearn.model_selection import train_test_split\n",
    "X = data[[\"Dimensions_Length\", \"Engine_Information_Number_of_Forward_Gears\", \"Engine_Information_Engine_Statistics_Horsepower\", \"Engine_Information_Engine_Statistics_Torque\", \"Fuel_Information_Fuel_Type\"]]\n",
    "y = data[\"Fuel_Information_Highway_mpg\"]\n",
    "print(X )\n",
    "X_train, X_test, y_train, y_test =  train_test_split(X, y, test_size = 0.25, random_state = 2024)\n",
    "#25-75\n",
    "print([X_train.shape, X_test.shape, y_train.shape, y_test.shape])"
   ]
  },
  {
   "cell_type": "code",
   "execution_count": 87,
   "id": "ca4d6bf6",
   "metadata": {},
   "outputs": [
    {
     "ename": "NameError",
     "evalue": "name 'model' is not defined",
     "output_type": "error",
     "traceback": [
      "\u001b[0;31m---------------------------------------------------------------------------\u001b[0m",
      "\u001b[0;31mNameError\u001b[0m                                 Traceback (most recent call last)",
      "Cell \u001b[0;32mIn[87], line 6\u001b[0m\n\u001b[1;32m      2\u001b[0m \u001b[38;5;28;01mfrom\u001b[39;00m \u001b[38;5;21;01msklearn\u001b[39;00m\u001b[38;5;21;01m.\u001b[39;00m\u001b[38;5;21;01mmodel_selection\u001b[39;00m \u001b[38;5;28;01mimport\u001b[39;00m cross_val_score\n\u001b[1;32m      4\u001b[0m \u001b[38;5;66;03m# this is performing k-fold cross-validation \u001b[39;00m\n\u001b[1;32m      5\u001b[0m \u001b[38;5;66;03m# input the defined model and data\u001b[39;00m\n\u001b[0;32m----> 6\u001b[0m scores \u001b[38;5;241m=\u001b[39m cross_val_score(\u001b[43mmodel\u001b[49m, X_train, y_train)\n\u001b[1;32m      8\u001b[0m \u001b[38;5;66;03m# print the cross-validation scores on each fold\u001b[39;00m\n\u001b[1;32m      9\u001b[0m \u001b[38;5;66;03m# how many scores are expected?\u001b[39;00m\n\u001b[1;32m     10\u001b[0m \u001b[38;5;66;03m# what is the default score for classifier?\u001b[39;00m\n\u001b[1;32m     11\u001b[0m \u001b[38;5;28mprint\u001b[39m(\u001b[38;5;124m\"\u001b[39m\u001b[38;5;124mCross-validation scores:\u001b[39m\u001b[38;5;124m\"\u001b[39m, scores)\n",
      "\u001b[0;31mNameError\u001b[0m: name 'model' is not defined"
     ]
    }
   ],
   "source": [
    "### the cross_val_score function\n",
    "from sklearn.model_selection import cross_val_score\n",
    "\n",
    "# this is performing k-fold cross-validation \n",
    "# input the defined model and data\n",
    "scores = cross_val_score(model, X_train, y_train)\n",
    "\n",
    "# print the cross-validation scores on each fold\n",
    "# how many scores are expected?\n",
    "# what is the default score for classifier?\n",
    "print(\"Cross-validation scores:\", scores)\n",
    "print(\"Mean cross-validation score:\", scores.mean())"
   ]
  },
  {
   "cell_type": "code",
   "execution_count": null,
   "id": "a7846de4",
   "metadata": {},
   "outputs": [],
   "source": []
  },
  {
   "cell_type": "markdown",
   "id": "79ab5978",
   "metadata": {},
   "source": [
    "separate outcome and features\n",
    "Split into train / validation / test (with K-fold cross-validation, only need to split into train / test)"
   ]
  },
  {
   "cell_type": "markdown",
   "id": "e6cc6684",
   "metadata": {},
   "source": [
    "need val and test set\n",
    "Random Forest and knn\n",
    "graphs\n",
    "decision boundaries\n",
    "reproducability using random state\n",
    "need to make longer or wider\n",
    "\n",
    "\n",
    "is data in fine format\n",
    "choosing models\n",
    "what all is needed in code\n",
    "k fold statement in instructions\n",
    "figures\n",
    "processing"
   ]
  },
  {
   "cell_type": "code",
   "execution_count": null,
   "id": "fab84057",
   "metadata": {},
   "outputs": [],
   "source": []
  }
 ],
 "metadata": {
  "kernelspec": {
   "display_name": "Python 3 (ipykernel)",
   "language": "python",
   "name": "python3"
  },
  "language_info": {
   "codemirror_mode": {
    "name": "ipython",
    "version": 3
   },
   "file_extension": ".py",
   "mimetype": "text/x-python",
   "name": "python",
   "nbconvert_exporter": "python",
   "pygments_lexer": "ipython3",
   "version": "3.9.5"
  }
 },
 "nbformat": 4,
 "nbformat_minor": 5
}
